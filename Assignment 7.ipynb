{
 "cells": [
  {
   "cell_type": "code",
   "execution_count": 1,
   "id": "84a9e204-67d0-4d43-9108-c0c151146a63",
   "metadata": {},
   "outputs": [
    {
     "name": "stdout",
     "output_type": "stream",
     "text": [
      "True\n"
     ]
    }
   ],
   "source": [
    "# 1.Ans.\n",
    "\n",
    "def isomorphic(s,t):\n",
    "    if len(s)!=len(t):\n",
    "        return False\n",
    "    \n",
    "    s_map={}\n",
    "    t_map={}\n",
    "    \n",
    "    for s_char, t_char in zip(s, t):\n",
    "        if s_char not in s_map and t_char not in t_map:\n",
    "            s_map[s_char] = t_char\n",
    "            t_map[t_char] = s_char\n",
    "        elif s_map.get(s_char) != t_char or t_map.get(t_char) != s_char:\n",
    "            return False\n",
    "\n",
    "    return True\n",
    "\n",
    "s = \"egg\"\n",
    "t = \"add\"\n",
    "\n",
    "print(isomorphic(s,t))"
   ]
  },
  {
   "cell_type": "code",
   "execution_count": 4,
   "id": "9fda767e-ba76-432a-bbd0-ca43f93c4225",
   "metadata": {},
   "outputs": [
    {
     "name": "stdout",
     "output_type": "stream",
     "text": [
      "True\n"
     ]
    }
   ],
   "source": [
    "# 2.Ans.\n",
    "\n",
    "def isStrobogrammatic(num):\n",
    "    strobogrammatic_map = {'0': '0', '1': '1', '6': '9', '8': '8', '9': '6'}\n",
    "    left, right = 0, len(num) - 1\n",
    "\n",
    "    while left <= right:\n",
    "        if num[left] not in strobogrammatic_map or strobogrammatic_map[num[left]] != num[right]:\n",
    "            return False\n",
    "        left += 1\n",
    "        right -= 1\n",
    "\n",
    "    return True\n",
    "num = \"69\"\n",
    "\n",
    "print(isStrobogrammatic(num))\n"
   ]
  },
  {
   "cell_type": "code",
   "execution_count": 9,
   "id": "fe613f6a-6e0c-44ef-a509-5abda01cb08f",
   "metadata": {},
   "outputs": [
    {
     "name": "stdout",
     "output_type": "stream",
     "text": [
      "134\n"
     ]
    }
   ],
   "source": [
    "# 3.Ans.\n",
    "\n",
    "def addStrings(num1, num2):\n",
    "    result = \"\"\n",
    "    i = len(num1) - 1\n",
    "    j = len(num2) - 1\n",
    "    carry = 0\n",
    "\n",
    "    while i >= 0 or j >= 0:\n",
    "        digit1 = int(num1[i]) if i >= 0 else 0\n",
    "        digit2 = int(num2[j]) if j >= 0 else 0\n",
    "\n",
    "        temp_sum = digit1 + digit2 + carry\n",
    "        current_digit = temp_sum % 10\n",
    "        carry = temp_sum // 10\n",
    "\n",
    "        result = str(current_digit) + result\n",
    "\n",
    "        i -= 1\n",
    "        j -= 1\n",
    "\n",
    "    if carry > 0:\n",
    "        result = str(carry) + result\n",
    "\n",
    "    return result\n",
    "\n",
    "num1 = \"11\"\n",
    "num2 = \"123\"\n",
    "print(addStrings(num1,num2))"
   ]
  },
  {
   "cell_type": "code",
   "execution_count": 10,
   "id": "71b3db1b-f716-4fa3-bcae-94cd7eddf0d7",
   "metadata": {},
   "outputs": [
    {
     "name": "stdout",
     "output_type": "stream",
     "text": [
      "s'teL ekat edoCteeL tsetnoc\n"
     ]
    }
   ],
   "source": [
    "# 4.Ans.\n",
    "\n",
    "def reverseWords(s):\n",
    "    words = s.split()\n",
    "    reversed_words = [word[::-1] for word in words]\n",
    "    reversed_sentence = \" \".join(reversed_words)\n",
    "    return reversed_sentence\n",
    "s = \"Let's take LeetCode contest\"\n",
    "print(reverseWords(s))"
   ]
  },
  {
   "cell_type": "code",
   "execution_count": 11,
   "id": "238ffa9d-73d1-4473-b1c6-f08f39d402b9",
   "metadata": {},
   "outputs": [
    {
     "name": "stdout",
     "output_type": "stream",
     "text": [
      "bacdfeg\n"
     ]
    }
   ],
   "source": [
    "# 5.Ans.\n",
    "\n",
    "def reverseStr(s, k):\n",
    "    s = list(s)  \n",
    "\n",
    "    for i in range(0, len(s), 2 * k):\n",
    "        start = i\n",
    "        end = min(i + k, len(s))\n",
    "        s[start:end] = s[start:end][::-1]\n",
    "\n",
    "    return ''.join(s) \n",
    "\n",
    "s = \"abcdefg\"\n",
    "k = 2\n",
    "\n",
    "print(reverseStr(s,k))\n"
   ]
  },
  {
   "cell_type": "code",
   "execution_count": 12,
   "id": "3190f91c-e3dd-4b37-a65c-9b6f529e9c5f",
   "metadata": {},
   "outputs": [
    {
     "name": "stdout",
     "output_type": "stream",
     "text": [
      "True\n"
     ]
    }
   ],
   "source": [
    "# 6.Ans.\n",
    "\n",
    "def goalString(s, goal):\n",
    "    if len(s) != len(goal):\n",
    "        return False\n",
    "\n",
    "    s_double = s + s\n",
    "    return goal in s_double\n",
    "\n",
    "s = \"abcde\"\n",
    "goal = \"cdeab\"\n",
    "\n",
    "print(goalString(s,goal))\n",
    "\n"
   ]
  },
  {
   "cell_type": "code",
   "execution_count": 13,
   "id": "f9897d6b-a73e-4010-9c97-be8951d572b0",
   "metadata": {},
   "outputs": [
    {
     "name": "stdout",
     "output_type": "stream",
     "text": [
      "True\n"
     ]
    }
   ],
   "source": [
    "# 7.Ans.\n",
    "\n",
    "def compare(s, t):\n",
    "    s_stack = []\n",
    "    t_stack = []\n",
    "\n",
    "    for char in s:\n",
    "        if char != '#':\n",
    "            s_stack.append(char)\n",
    "        elif s_stack:\n",
    "            s_stack.pop()\n",
    "\n",
    "    for char in t:\n",
    "        if char != '#':\n",
    "            t_stack.append(char)\n",
    "        elif t_stack:\n",
    "            t_stack.pop()\n",
    "\n",
    "    return s_stack == t_stack\n",
    "\n",
    "s = \"ab#c\"\n",
    "t= \"ad#c\"\n",
    "\n",
    "print(compare(s,t))\n"
   ]
  },
  {
   "cell_type": "code",
   "execution_count": 14,
   "id": "d36e5410-9dbb-46df-a2ff-0108103de730",
   "metadata": {},
   "outputs": [
    {
     "name": "stdout",
     "output_type": "stream",
     "text": [
      "True\n"
     ]
    }
   ],
   "source": [
    "# 8.Ans.\n",
    "\n",
    "def makeStraightLine(coordinates):\n",
    "    if len(coordinates) < 2:\n",
    "        return True\n",
    "\n",
    "    x1, y1 = coordinates[0]\n",
    "    x2, y2 = coordinates[1]\n",
    "\n",
    "    for i in range(2, len(coordinates)):\n",
    "        x, y = coordinates[i]\n",
    "        if (x - x1) * (y2 - y1) - (y - y1) * (x2 - x1) != 0:\n",
    "            return False\n",
    "\n",
    "    return True\n",
    "\n",
    "coordinates = [[1,2],[2,3],[3,4],[4,5],[5,6],[6,7]]\n",
    "print(makeStraightLine(coordinates))\n"
   ]
  },
  {
   "cell_type": "code",
   "execution_count": null,
   "id": "c680a8f1-907b-45e9-a304-ab2d24fc0513",
   "metadata": {},
   "outputs": [],
   "source": []
  }
 ],
 "metadata": {
  "kernelspec": {
   "display_name": "Python 3 (ipykernel)",
   "language": "python",
   "name": "python3"
  },
  "language_info": {
   "codemirror_mode": {
    "name": "ipython",
    "version": 3
   },
   "file_extension": ".py",
   "mimetype": "text/x-python",
   "name": "python",
   "nbconvert_exporter": "python",
   "pygments_lexer": "ipython3",
   "version": "3.10.6"
  }
 },
 "nbformat": 4,
 "nbformat_minor": 5
}
